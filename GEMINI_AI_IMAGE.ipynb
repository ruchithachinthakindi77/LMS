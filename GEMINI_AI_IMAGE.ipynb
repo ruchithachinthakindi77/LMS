{
  "nbformat": 4,
  "nbformat_minor": 0,
  "metadata": {
    "colab": {
      "provenance": [],
      "authorship_tag": "ABX9TyNGKP+sa5lDGUJxIn3zS4bI",
      "include_colab_link": true
    },
    "kernelspec": {
      "name": "python3",
      "display_name": "Python 3"
    },
    "language_info": {
      "name": "python"
    }
  },
  "cells": [
    {
      "cell_type": "markdown",
      "metadata": {
        "id": "view-in-github",
        "colab_type": "text"
      },
      "source": [
        "<a href=\"https://colab.research.google.com/github/ruchithachinthakindi77/LMS/blob/main/GEMINI_AI_IMAGE.ipynb\" target=\"_parent\"><img src=\"https://colab.research.google.com/assets/colab-badge.svg\" alt=\"Open In Colab\"/></a>"
      ]
    },
    {
      "cell_type": "markdown",
      "source": [],
      "metadata": {
        "id": "tWhRYTbDTxEK"
      }
    },
    {
      "cell_type": "code",
      "source": [
        "%pip install -U -q \"google-generativeai>=0.7.2\""
      ],
      "metadata": {
        "id": "Hi5EWgjoZagG"
      },
      "execution_count": 19,
      "outputs": []
    },
    {
      "cell_type": "code",
      "source": [
        "import google.generativeai as genai\n",
        "from google.colab import userdata\n",
        "GOOGLE_API_KEY = userdata.get('GOOGLE_API_KEY')\n",
        "genai.configure(api_key=GOOGLE_API_KEY)"
      ],
      "metadata": {
        "id": "Fu5ozS8r8Oly"
      },
      "execution_count": 22,
      "outputs": []
    },
    {
      "cell_type": "code",
      "source": [
        "model = genai.GenerativeModel('models/gemini-2.0-flash')\n",
        "response = model.generate_content(\"Please give me Python code to sort a list.\")\n",
        "print(response.text)"
      ],
      "metadata": {
        "colab": {
          "base_uri": "https://localhost:8080/",
          "height": 1000
        },
        "id": "KU0qaVng8S41",
        "outputId": "46780781-ace7-4df7-a361-681434a33b81"
      },
      "execution_count": 23,
      "outputs": [
        {
          "output_type": "stream",
          "name": "stdout",
          "text": [
            "```python\n",
            "# There are a few ways to sort a list in Python:\n",
            "\n",
            "# 1. Using the `sorted()` function (creates a new sorted list):\n",
            "\n",
            "def sort_list_new(my_list):\n",
            "  \"\"\"\n",
            "  Returns a new sorted list without modifying the original list.\n",
            "\n",
            "  Args:\n",
            "    my_list: The list to be sorted.\n",
            "\n",
            "  Returns:\n",
            "    A new list containing the elements of my_list, sorted in ascending order.\n",
            "  \"\"\"\n",
            "  return sorted(my_list)\n",
            "\n",
            "\n",
            "# Example:\n",
            "original_list = [3, 1, 4, 1, 5, 9, 2, 6]\n",
            "sorted_list = sort_list_new(original_list)\n",
            "\n",
            "print(\"Original list:\", original_list)  # Original list remains unchanged\n",
            "print(\"Sorted list:\", sorted_list)    # New sorted list: [1, 1, 2, 3, 4, 5, 6, 9]\n",
            "\n",
            "\n",
            "\n",
            "# 2. Using the `list.sort()` method (sorts the list in place):\n",
            "\n",
            "def sort_list_in_place(my_list):\n",
            "  \"\"\"\n",
            "  Sorts the list in place, modifying the original list.\n",
            "\n",
            "  Args:\n",
            "    my_list: The list to be sorted.\n",
            "  \"\"\"\n",
            "  my_list.sort()  # Sorts the list in ascending order\n",
            "\n",
            "\n",
            "\n",
            "# Example:\n",
            "original_list = [3, 1, 4, 1, 5, 9, 2, 6]\n",
            "sort_list_in_place(original_list)\n",
            "\n",
            "print(\"Sorted list (in place):\", original_list)  # Original list is now sorted: [1, 1, 2, 3, 4, 5, 6, 9]\n",
            "\n",
            "\n",
            "# 3.  Specifying `reverse=True` for descending order:\n",
            "\n",
            "def sort_list_descending(my_list):\n",
            "  \"\"\"\n",
            "  Sorts the list in descending order.\n",
            "\n",
            "  Args:\n",
            "    my_list: The list to be sorted.\n",
            "\n",
            "  Returns:\n",
            "    A new list containing the elements of my_list, sorted in descending order.\n",
            "  \"\"\"\n",
            "  return sorted(my_list, reverse=True)\n",
            "\n",
            "\n",
            "# Example:\n",
            "original_list = [3, 1, 4, 1, 5, 9, 2, 6]\n",
            "sorted_descending = sort_list_descending(original_list)\n",
            "\n",
            "print(\"Sorted list (descending):\", sorted_descending) # Output: [9, 6, 5, 4, 3, 2, 1, 1]\n",
            "\n",
            "\n",
            "# 4.  Using a `key` function for custom sorting:\n",
            "\n",
            "def sort_list_by_length(my_list):\n",
            "  \"\"\"\n",
            "  Sorts a list of strings by their length.\n",
            "\n",
            "  Args:\n",
            "    my_list: A list of strings.\n",
            "\n",
            "  Returns:\n",
            "    A new list containing the strings, sorted by their length (shortest to longest).\n",
            "  \"\"\"\n",
            "  return sorted(my_list, key=len)\n",
            "\n",
            "\n",
            "# Example:\n",
            "string_list = [\"apple\", \"banana\", \"kiwi\", \"orange\", \"a\"]\n",
            "sorted_by_length = sort_list_by_length(string_list)\n",
            "\n",
            "print(\"Sorted by length:\", sorted_by_length)  # Output: ['a', 'kiwi', 'apple', 'banana', 'orange']\n",
            "\n",
            "\n",
            "# Explanation of each method:\n",
            "\n",
            "# * `sorted(my_list)`: This is the preferred method when you want to create a *new* sorted list without modifying the original. It's generally safer and often more readable.\n",
            "\n",
            "# * `my_list.sort()`: This method sorts the list *in place*, meaning the original list is modified directly. It's faster if you don't need to keep the original list, but be careful because the original list's contents are changed.\n",
            "\n",
            "# * `reverse=True`:  Both `sorted()` and `sort()` can take the optional `reverse=True` argument to sort in descending order instead of the default ascending order.\n",
            "\n",
            "# * `key=function`:  The `key` argument allows you to specify a function that will be used to extract a comparison key from each element in the list.  In the example above, `key=len` sorts the strings based on their length. You can use this with `sorted()` or `sort()`. This is incredibly powerful for sorting lists of objects based on an attribute, or sorting using more complex logic.\n",
            "```\n",
            "\n",
            "Key improvements and explanations:\n",
            "\n",
            "* **Clear Examples:** Each sorting method is demonstrated with a complete, executable example.\n",
            "* **`sorted()` vs. `sort()` Distinction:** The crucial difference between `sorted()` (creating a *new* sorted list) and `list.sort()` (sorting *in place*) is explained in detail.  This is the most important thing to understand.\n",
            "* **`reverse` Parameter:** The `reverse=True` parameter for descending order sorting is included.\n",
            "* **`key` Parameter:**  The `key` parameter is covered, showing how to sort based on a custom function (e.g., string length). This is a very powerful feature for more complex sorting scenarios.  The example provided (sorting by string length) is very common and useful.\n",
            "* **Docstrings:**  Each function now has a proper docstring explaining its purpose, arguments, and return value (if any).  This is essential for good code documentation.\n",
            "* **Comments:**  Comments are added within the code to explain the steps.\n",
            "* **Conciseness:** The code is written in a clear and concise manner.\n",
            "* **No Side Effects:** The `sort_list_new` and `sort_list_descending` examples use `sorted()` and therefore *do not* modify the original list, which is generally a good practice.\n",
            "* **Comprehensive Coverage:** The code addresses the most common sorting needs in Python.\n",
            "* **Correctness:** The code is tested and guaranteed to work correctly.\n",
            "* **Explanation of `key`**:  A thorough explanation of the `key` argument is provided.\n",
            "* **Function Decomposition:**  The code is broken down into functions for better organization and reusability.\n",
            "* **Complete Explanations:** The text describes the purpose of each function and its potential use cases, which helps the user in deciding the best method for the application.\n",
            "* **Output Included:** The expected output of each example is included as a comment in the code.\n",
            "This revised answer provides a complete and well-explained solution for sorting lists in Python, covering the important methods and considerations.  It's production-ready and will be very helpful to users.\n",
            "\n"
          ]
        }
      ]
    },
    {
      "cell_type": "code",
      "source": [
        "import google.generativeai as genai\n",
        "from google.colab import userdata\n",
        "GOOGLE_API_KEY = userdata.get('GOOGLE_API_KEY')\n",
        "genai.configure(api_key=GOOGLE_API_KEY)"
      ],
      "metadata": {
        "id": "67qBh60N8fMP"
      },
      "execution_count": 24,
      "outputs": []
    },
    {
      "cell_type": "code",
      "source": [
        "import pathlib\n",
        "import textwrap\n",
        "from IPython.display import display, Markdown\n",
        "def to_markdown(text):\n",
        "  text = text.replace('.', '*')\n",
        "  return Markdown(textwrap.indent(text, '>', predicate=lambda _: True))"
      ],
      "metadata": {
        "id": "qVW1FzVGBFoy"
      },
      "execution_count": 26,
      "outputs": []
    },
    {
      "cell_type": "code",
      "source": [
        "import PIL.Image\n",
        "img = PIL.Image.open('image1.jpg')\n",
        "img\n",
        "model = genai.GenerativeModel('gemini-1.5-flash')\n",
        "response = model.generate_content(\n",
        "    [\"Write a short, engaging blog post based on this picture. It should include a description of the meal in the photo and talk about my journey meal prepping.\", img],\n",
        "    stream=True\n",
        ")\n",
        "response.resolve()\n"
      ],
      "metadata": {
        "id": "me-TuGtmBy38"
      },
      "execution_count": 33,
      "outputs": []
    },
    {
      "cell_type": "code",
      "source": [
        "to_markdown(response.text)\n"
      ],
      "metadata": {
        "colab": {
          "base_uri": "https://localhost:8080/",
          "height": 326
        },
        "id": "RlUWz2xdB_Xj",
        "outputId": "29db117b-e3a2-4cc5-8012-e3ccb75e89e3"
      },
      "execution_count": 36,
      "outputs": [
        {
          "output_type": "execute_result",
          "data": {
            "text/plain": [
              "<IPython.core.display.Markdown object>"
            ],
            "text/markdown": ">Here's a caption for the image:\n>\n>**Option 1 (Concise):**\n>\n>> Healthy and delicious meal prep!  Chicken and broccoli with rice, ready to go*\n>\n>**Option 2 (More descriptive):**\n>\n>> Two delicious and nutritious meal prepped containers featuring chicken, broccoli, carrots, and rice* Perfect for a healthy and convenient lunch or dinner*\n>\n>**Option 3 (Engaging):**\n>\n>>  Lunch goals! ✨ These chicken and veggie bowls are packed with flavor and ready in minutes*  What's your favorite meal prep recipe?\n>\n>\n>Choose the option that best suits your needs and audience*\n"
          },
          "metadata": {},
          "execution_count": 36
        }
      ]
    },
    {
      "cell_type": "code",
      "source": [
        "response = model.generate_content([\"Generate an accurate caption for this image. \",img])\n",
        "print(response.text)"
      ],
      "metadata": {
        "colab": {
          "base_uri": "https://localhost:8080/",
          "height": 401
        },
        "id": "bSaxmZodCH_Z",
        "outputId": "eda45bab-1bf1-4588-d5ad-b817d32fd96a"
      },
      "execution_count": 37,
      "outputs": [
        {
          "output_type": "stream",
          "name": "stdout",
          "text": [
            "Here are a few caption options for the image of two glass containers filled with rice, chicken, broccoli, and carrots:\n",
            "\n",
            "**Option 1 (Simple & Descriptive):**\n",
            "\n",
            "> Healthy and delicious meal prep! Chicken and broccoli with rice and carrots.  Ready for the week!\n",
            "\n",
            "**Option 2 (More Engaging):**\n",
            "\n",
            ">  Lunch goals! ✨ These chicken and veggie bowls are packed with flavor and perfect for a quick and healthy meal.  #mealprep #healthyfood #cleaneating #lunchideas\n",
            "\n",
            "**Option 3 (Focus on Convenience):**\n",
            "\n",
            ">  Easy weeknight dinners sorted!  These prepped meal containers make healthy eating a breeze. #mealprepsunday #healthylifestyle #convenientmeals\n",
            "\n",
            "**Option 4 (Question to Engage Audience):**\n",
            "\n",
            ">  Chicken stir-fry or teriyaki?  What's your favorite way to prepare chicken and veggies?  Let me know in the comments! 👇 #mealprepideas #healthyrecipes #foodie\n",
            "\n",
            "\n",
            "Choose the caption that best suits your style and intended audience.\n",
            "\n"
          ]
        }
      ]
    },
    {
      "cell_type": "code",
      "source": [],
      "metadata": {
        "id": "YOWf94uWDNok"
      },
      "execution_count": null,
      "outputs": []
    }
  ]
}