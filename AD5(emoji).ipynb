{
  "nbformat": 4,
  "nbformat_minor": 0,
  "metadata": {
    "colab": {
      "provenance": [],
      "authorship_tag": "ABX9TyMZgbHV5EK5CNYRr6XztPFR",
      "include_colab_link": true
    },
    "kernelspec": {
      "name": "python3",
      "display_name": "Python 3"
    },
    "language_info": {
      "name": "python"
    }
  },
  "cells": [
    {
      "cell_type": "markdown",
      "metadata": {
        "id": "view-in-github",
        "colab_type": "text"
      },
      "source": [
        "<a href=\"https://colab.research.google.com/github/ruchithachinthakindi77/LMS/blob/main/AD5(emoji).ipynb\" target=\"_parent\"><img src=\"https://colab.research.google.com/assets/colab-badge.svg\" alt=\"Open In Colab\"/></a>"
      ]
    },
    {
      "cell_type": "code",
      "execution_count": null,
      "metadata": {
        "colab": {
          "base_uri": "https://localhost:8080/"
        },
        "id": "RRvst2hFwDMx",
        "outputId": "94202175-8248-458b-b36d-d5e10c95f818"
      },
      "outputs": [
        {
          "output_type": "stream",
          "name": "stdout",
          "text": [
            "Requirement already satisfied: emot in /usr/local/lib/python3.11/dist-packages (3.1)\n"
          ]
        }
      ],
      "source": [
        "!pip install emot"
      ]
    },
    {
      "cell_type": "code",
      "source": [
        "text1 = \"What are you saying 😂.I am the boss😎,and why are you so😒\""
      ],
      "metadata": {
        "id": "fL-gRiY9wMLO"
      },
      "execution_count": null,
      "outputs": []
    },
    {
      "cell_type": "code",
      "source": [
        "url1 = \"https://emojipedia.org/\"\n",
        "url2 =\"https://emojijoy.com/\"\n",
        "url3 =\"https://unicode.org/emoji/charts/full-emoji-list.html\"\n",
        "url4 =\"https://apps.timwhitlock.info/emoji/tables/unicode\"\n",
        "# Printing the URL\n",
        "print(url1)\n",
        "print(url2)\n",
        "print(url3)\n",
        "print(url4)"
      ],
      "metadata": {
        "colab": {
          "base_uri": "https://localhost:8080/"
        },
        "id": "M98XB1ksw_ZA",
        "outputId": "3f9fe65a-586a-44ac-c195-6a826829c8ac"
      },
      "execution_count": null,
      "outputs": [
        {
          "output_type": "stream",
          "name": "stdout",
          "text": [
            "https://emojipedia.org/\n",
            "https://emojijoy.com/\n",
            "https://unicode.org/emoji/charts/full-emoji-list.html\n",
            "https://apps.timwhitlock.info/emoji/tables/unicode\n"
          ]
        }
      ]
    },
    {
      "cell_type": "code",
      "source": [
        "import re\n",
        "from emot.emo_unicode import UNICODE_EMOJI\n",
        "from emot.emo_unicode import EMOTICONS_EMO"
      ],
      "metadata": {
        "id": "xqwF1T7dxOdH"
      },
      "execution_count": null,
      "outputs": []
    },
    {
      "cell_type": "code",
      "source": [
        "def converting_emojis(text):\n",
        "  for emot in UNICODE_EMOJI:\n",
        "    text = text.replace(emot, \"_\".join(UNICODE_EMOJI[emot].replace(\",\", \" \").replace(\":\", \" \").split()))\n",
        "  return text\n",
        "converting_emojis(text1)"
      ],
      "metadata": {
        "colab": {
          "base_uri": "https://localhost:8080/",
          "height": 36
        },
        "id": "FeAUluwPyF2f",
        "outputId": "6d0b4347-aa36-42a8-9cc2-71cf004cee0d"
      },
      "execution_count": null,
      "outputs": [
        {
          "output_type": "execute_result",
          "data": {
            "text/plain": [
              "'What are you saying face_with_tears_of_joy.I am the bosssmiling_face_with_sunglasses,and why are you sounamused_face'"
            ],
            "application/vnd.google.colaboratory.intrinsic+json": {
              "type": "string"
            }
          },
          "metadata": {},
          "execution_count": 24
        }
      ]
    },
    {
      "cell_type": "code",
      "source": [
        "def emoji_removal(string):\n",
        "  emoji_unicodes = re.compile(\"[\"\n",
        "                              u\"\\U0001F600-\\U0001F64F\" #emoticons\n",
        "                              u\"\\U0001F300-\\U0001F5FF\"\n",
        "                              u\"\\U0001F680-\\U0001F6FF\"\n",
        "                              u\"\\U00002500-\\U00002BEF\"\n",
        "                              u\"\\U00002702-\\U000027B0\"\n",
        "                              u\"\\U000024C2-\\U0001F251\"\n",
        "                              u\"\\U0001f926-\\U0001f937\"\n",
        "                              u\"\\U00010000-\\U0010ffff\"\n",
        "                              u\"\\u2640-\\u2642\"\n",
        "                              u\"\\u2600-\\u2B55\"\n",
        "                              u\"\\u200d\"\n",
        "                              u\"\\u23cf\"\n",
        "                              u\"\\u23e9\"\n",
        "                              u\"\\u231a\"\n",
        "                              u\"\\ufe0f\"\n",
        "                              u\"\\u3030\"\n",
        "                              \"]+\",flags = re.UNICODE)\n",
        "  return emoji_unicodes.sub(r\"\",string)\n",
        "emoji_removal(text1)"
      ],
      "metadata": {
        "colab": {
          "base_uri": "https://localhost:8080/",
          "height": 36
        },
        "id": "Ntp-gy8KzEG_",
        "outputId": "9c9f1dd1-9ec7-40a6-ec9c-ba23d8386837"
      },
      "execution_count": null,
      "outputs": [
        {
          "output_type": "execute_result",
          "data": {
            "text/plain": [
              "'What are you saying .I am the boss,and why are you so'"
            ],
            "application/vnd.google.colaboratory.intrinsic+json": {
              "type": "string"
            }
          },
          "metadata": {},
          "execution_count": 25
        }
      ]
    },
    {
      "cell_type": "code",
      "source": [],
      "metadata": {
        "id": "7v-S1Y791caI"
      },
      "execution_count": null,
      "outputs": []
    },
    {
      "cell_type": "code",
      "source": [],
      "metadata": {
        "id": "WzGK_wia2bh6"
      },
      "execution_count": null,
      "outputs": []
    },
    {
      "cell_type": "code",
      "source": [],
      "metadata": {
        "id": "CYRR1zD-2bqh"
      },
      "execution_count": null,
      "outputs": []
    },
    {
      "cell_type": "code",
      "source": [],
      "metadata": {
        "id": "sG5hvZbF2bt7"
      },
      "execution_count": null,
      "outputs": []
    },
    {
      "cell_type": "code",
      "source": [],
      "metadata": {
        "id": "1KpPZd4k2cAg"
      },
      "execution_count": null,
      "outputs": []
    },
    {
      "cell_type": "code",
      "source": [],
      "metadata": {
        "id": "Hh-la0JM2cEF"
      },
      "execution_count": null,
      "outputs": []
    }
  ]
}